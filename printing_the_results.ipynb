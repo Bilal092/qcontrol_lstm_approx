{
 "cells": [
  {
   "cell_type": "code",
   "execution_count": 16,
   "metadata": {},
   "outputs": [
    {
     "name": "stdout",
     "output_type": "stream",
     "text": [
      "The autoreload extension is already loaded. To reload it, use:\n",
      "  %reload_ext autoreload\n"
     ]
    }
   ],
   "source": [
    "import numpy as np\n",
    "import matplotlib.pyplot as plt\n",
    "import scipy.linalg\n",
    "from scipy import stats\n",
    "from itertools import product as prod\n",
    "%load_ext autoreload\n",
    "%autoreload 2\n",
    "\n",
    "\n",
    "from constants_of_experiments import *\n",
    "from noise_models_and_integration import *\n",
    "from get_data import *\n"
   ]
  },
  {
   "cell_type": "code",
   "execution_count": 14,
   "metadata": {
    "collapsed": true
   },
   "outputs": [],
   "source": [
    "(train_input, train_target, test_input, test_target) = get_data(train_set_size,\n",
    "                                                                    test_set_size,\n",
    "                                                                    model_dim)"
   ]
  },
  {
   "cell_type": "code",
   "execution_count": 31,
   "metadata": {},
   "outputs": [
    {
     "name": "stdout",
     "output_type": "stream",
     "text": [
      "0.8\n",
      "0.0\n",
      "0.862196\n",
      "0.8\n",
      "0.2\n",
      "0.904486\n",
      "0.8\n",
      "0.5\n",
      "0.90923\n",
      "0.8\n",
      "0.8\n",
      "0.954475\n"
     ]
    }
   ],
   "source": [
    "for gamma in [0.8]:\n",
    "    for alpha in list_alphas:\n",
    "        print(gamma)\n",
    "        print(alpha)\n",
    "        data = np.load(\"results/eff_fid_lstm/dim_{}/statistic_{}_gam_{}_alpha_{}.npz\".format(model_dim,\n",
    "                                                                                                         noise_name,\n",
    "                                                                                                         gamma,\n",
    "                                                                                                         alpha))['arr_0']\n",
    "\n",
    "        data = data[()]\n",
    "        a = []\n",
    "        for i in range(10):\n",
    "            a.append(data[i])\n",
    "        print(np.mean(a))"
   ]
  },
  {
   "cell_type": "code",
   "execution_count": 10,
   "metadata": {},
   "outputs": [
    {
     "data": {
      "text/plain": [
       "(32, 2, 1000)"
      ]
     },
     "execution_count": 10,
     "metadata": {},
     "output_type": "execute_result"
    }
   ],
   "source": [
    "dane = np.load(\"results/NN_as_approx/dim_{}/{}_gam_{}_alpha_{}_epsilon_1e-{}.npz\".format(model_dim,\n",
    "                                                                                        noise_name,\n",
    "                                                                                        gamma,\n",
    "                                                                                        alpha,\n",
    "                                                                                        eps_order))[\"arr_0\"]\n",
    "np.shape(dane)"
   ]
  },
  {
   "cell_type": "code",
   "execution_count": 11,
   "metadata": {},
   "outputs": [
    {
     "name": "stdout",
     "output_type": "stream",
     "text": [
      "852\n"
     ]
    }
   ],
   "source": [
    "def sieve_data(data):   \n",
    "    tmpdata = []\n",
    "    for i in range(np.shape(data)[2]):\n",
    "        if not((data[:,:,i] <0).any()) and (data[:,:,i] >0).any():\n",
    "            tmpdata.append(data[:,:,i])\n",
    "\n",
    "    print(len(tmpdata))\n",
    "    data = np.zeros((np.shape(data)[0],np.shape(data)[1],len(tmpdata)))\n",
    "    for i in range(len(tmpdata)):\n",
    "        data[:,:,i] = tmpdata[i]\n",
    "    return data\n",
    "\n",
    "data = sieve_data(dane)"
   ]
  },
  {
   "cell_type": "code",
   "execution_count": 12,
   "metadata": {},
   "outputs": [
    {
     "data": {
      "image/png": "[encoded data removed]",
      "text/plain": [
       "<matplotlib.figure.Figure at 0x7fa87acfb4e0>"
      ]
     },
     "metadata": {},
     "output_type": "display_data"
    }
   ],
   "source": [
    "plt.rc(\"text\", usetex=True)\n",
    "my_font_size = 15\n",
    "#PyPlot.rc(\"font\", family=\"serif\")\n",
    "\n",
    "plt.rc(\"text.latex\", unicode=True)\n",
    "fig = plt.figure()\n",
    "fig.set_size_inches(10, 10)\n",
    "\n",
    "\n",
    "\n",
    "plt.subplot(2,2,1)\n",
    "plt.hist(data[0,0], bins='auto')  \n",
    "plt.tick_params(labelsize = my_font_size)\n",
    "plt.xlabel(r'$l_2(\\textrm{nnDCP}-\\textrm{nnDCP}^{0,x})$', fontsize=my_font_size)\n",
    "\n",
    "plt.subplot(2,2,2)\n",
    "plt.hist(data[0,1], bins='auto')  \n",
    "plt.tick_params(labelsize = my_font_size)\n",
    "plt.xlabel(r'$l_2(\\textrm{nnDCP}-\\textrm{nnDCP}^{0,z})$', fontsize=my_font_size)\n",
    "\n",
    "plt.subplot(2,2,3)\n",
    "plt.hist(data[31,0], bins='auto')  \n",
    "plt.tick_params(labelsize = my_font_size)\n",
    "plt.xlabel(r'$l_2(\\textrm{nnDCP}-\\textrm{nnDCP}^{31,x})$', fontsize=my_font_size)\n",
    "\n",
    "plt.subplot(2,2,4)\n",
    "plt.hist(data[31,1], bins='auto')  \n",
    "plt.tick_params(labelsize = my_font_size)\n",
    "plt.xlabel(r'$l_2(\\textrm{nnDCP}-\\textrm{nnDCP}^{31,z})$', fontsize=my_font_size)\n",
    "# plt.savefig(\"../txt/LSTM_approx/histograms_{}_eps_e-{}.pdf\".format(noise_name,eps_order))\n",
    "plt.show()"
   ]
  },
  {
   "cell_type": "code",
   "execution_count": 17,
   "metadata": {},
   "outputs": [],
   "source": [
    "kruskal = np.zeros((64,64))\n",
    "for i,j in prod(range(n_ts),range(n_ts)):\n",
    "    for k,l in prod([0,1],[0,1]):\n",
    "        kruskal[i+k*32,j+l*32] = stats.kruskal(data[i,k],data[j,l])[1]"
   ]
  },
  {
   "cell_type": "code",
   "execution_count": 18,
   "metadata": {},
   "outputs": [
    {
     "data": {
      "image/png": "[encoded data removed]",
      "text/plain": [
       "<matplotlib.figure.Figure at 0x7fa870bcd278>"
      ]
     },
     "metadata": {},
     "output_type": "display_data"
    }
   ],
   "source": [
    "plt.rc(\"text\", usetex=True)\n",
    "my_font_size =10\n",
    "#PyPlot.rc(\"font\", family=\"serif\")\n",
    "\n",
    "my_cmap = plt.cm.Greys\n",
    "\n",
    "plt.rc(\"text.latex\", unicode=True)\n",
    "fig = plt.figure(dpi=150)\n",
    "fig.set_size_inches(3 ,3)\n",
    "plt.subplot(2,2,1)\n",
    "plt.imshow(kruskal[:32,:32], interpolation='nearest', cmap=my_cmap, vmin=0, vmax=1)\n",
    "plt.ylabel(r'$ \\textrm{nnDCP}^{i,x}$', fontsize=my_font_size)\n",
    "plt.tick_params(labelsize = my_font_size)\n",
    "plt.xticks([])\n",
    "plt.yticks([0,10,20,30])\n",
    "plt.subplot(2,2,2)\n",
    "plt.imshow(kruskal[:32,32:], interpolation='nearest', cmap=my_cmap, vmin=0, vmax=1)\n",
    "plt.xticks([])\n",
    "plt.yticks([])\n",
    "plt.subplot(2,2,3)\n",
    "plt.imshow(kruskal[32:,:32], interpolation='nearest', cmap=my_cmap, vmin=0, vmax=1)\n",
    "plt.ylabel(r'$ \\textrm{nnDCP}^{i,z}$', fontsize=my_font_size)\n",
    "plt.xlabel(r'$ \\textrm{nnDCP}^{i,x}$', fontsize=my_font_size)\n",
    "plt.tick_params(labelsize = my_font_size)\n",
    "plt.yticks([0,10,20,30])\n",
    "plt.xticks([0,10,20,30])\n",
    "plt.subplot(2,2,4)\n",
    "plt.imshow(kruskal[32:,32:], interpolation='nearest', cmap=my_cmap, vmin=0, vmax=1)\n",
    "plt.subplots_adjust(hspace=0.1)\n",
    "plt.subplots_adjust(wspace=-0.1)\n",
    "plt.xlabel(r'$\\textrm{nnDCP}^{i,z}$', fontsize=my_font_size)\n",
    "plt.tick_params(labelsize = my_font_size)\n",
    "plt.yticks([])\n",
    "plt.xticks([0,10,20,30])\n",
    "plt.subplots_adjust(bottom=0.2, right=0.8, top=0.8)\n",
    "cax = plt.axes([0.8, 0.2, 0.075, 0.6])\n",
    "plt.tick_params(labelsize = my_font_size)\n",
    "c = plt.colorbar(cax=cax)\n",
    "# c.set_label(r'$p$--\\textrm{value}', fontsize=my_font_size,rotation=270)\n",
    "\n",
    "# plt.savefig(\"../txt/LSTM_approx/kruskal_mtx_plot_{}_eps_e-{}.pdf\".format(noise_name,eps_order))\n",
    "plt.show()"
   ]
  },
  {
   "cell_type": "code",
   "execution_count": null,
   "metadata": {
    "collapsed": true
   },
   "outputs": [],
   "source": []
  }
 ],
 "metadata": {
  "kernelspec": {
   "display_name": "Python 3",
   "language": "python",
   "name": "python3"
  },
  "language_info": {
   "codemirror_mode": {
    "name": "ipython",
    "version": 3
   },
   "file_extension": ".py",
   "mimetype": "text/x-python",
   "name": "python",
   "nbconvert_exporter": "python",
   "pygments_lexer": "ipython3",
   "version": "3.5.3"
  }
 },
 "nbformat": 4,
 "nbformat_minor": 2
}
