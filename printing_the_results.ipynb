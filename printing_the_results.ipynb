{
 "cells": [
  {
   "cell_type": "code",
   "execution_count": 6,
   "metadata": {
    "collapsed": true
   },
   "outputs": [],
   "source": [
    "import numpy as np\n",
    "import matplotlib.pyplot as plt\n",
    "from constants_of_experiments import *\n",
    "from noise_models_and_integration import *\n",
    "from get_data import *\n",
    "import scipy.linalg"
   ]
  },
  {
   "cell_type": "code",
   "execution_count": 7,
   "metadata": {
    "collapsed": true
   },
   "outputs": [],
   "source": [
    "data = np.load(\"results/eff_fid_lstm/dim_{}/{}_gam_{}_alpha_{}.npz\".format(model_dim,\n",
    "                                                                                                 noise_name,\n",
    "                                                                                                 gamma,\n",
    "                                                                                                 alpha))['arr_0']"
   ]
  },
  {
   "cell_type": "code",
   "execution_count": 8,
   "metadata": {
    "collapsed": true
   },
   "outputs": [],
   "source": [
    "def average_fidelity(controls, unitary_mtx, gamma, alpha,n_ts, dim,evo_time, noise_name):\n",
    "    fid = []\n",
    "    for j in range(len(controls)):\n",
    "        Utarget = unitary_mtx[j]\n",
    "        U = integrate_lind(controls[j],(alpha, gamma), n_ts, evo_time,  noise_name, False)\n",
    "        fid.append(1 - fidelity_err([Utarget, U], dim, False))\n",
    "    return np.mean(fid)"
   ]
  },
  {
   "cell_type": "code",
   "execution_count": 9,
   "metadata": {},
   "outputs": [],
   "source": [
    "(train_input, train_target, test_input, test_target) = get_data(train_set_size,\n",
    "                                                                    test_set_size,\n",
    "                                                                    model_dim)"
   ]
  },
  {
   "cell_type": "code",
   "execution_count": 10,
   "metadata": {},
   "outputs": [
    {
     "data": {
      "text/plain": [
       "0.90167253182546137"
      ]
     },
     "execution_count": 10,
     "metadata": {},
     "output_type": "execute_result"
    }
   ],
   "source": [
    "average_fidelity(data,test_target, gamma, alpha,n_ts, dim,evo_time,noise_name)"
   ]
  },
  {
   "cell_type": "code",
   "execution_count": null,
   "metadata": {
    "collapsed": true
   },
   "outputs": [],
   "source": []
  }
 ],
 "metadata": {
  "kernelspec": {
   "display_name": "Python 3",
   "language": "python",
   "name": "python3"
  },
  "language_info": {
   "codemirror_mode": {
    "name": "ipython",
    "version": 3
   },
   "file_extension": ".py",
   "mimetype": "text/x-python",
   "name": "python",
   "nbconvert_exporter": "python",
   "pygments_lexer": "ipython3",
   "version": "3.5.3"
  }
 },
 "nbformat": 4,
 "nbformat_minor": 2
}
